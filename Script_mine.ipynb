{
  "cells": [
    {
      "cell_type": "markdown",
      "metadata": {
        "colab_type": "text",
        "id": "view-in-github"
      },
      "source": [
        "<a href=\"https://colab.research.google.com/github/ShaanHossain/NLPFinalProject/blob/master/Script.ipynb\" target=\"_parent\"><img src=\"https://colab.research.google.com/assets/colab-badge.svg\" alt=\"Open In Colab\"/></a>"
      ]
    },
    {
      "cell_type": "markdown",
      "metadata": {},
      "source": [
        "# 1. Importing Dependencies"
      ]
    },
    {
      "cell_type": "code",
      "execution_count": 19,
      "metadata": {},
      "outputs": [],
      "source": [
        "#import files\n",
        "import sys\n",
        "from csv import reader\n",
        "from typing import List\n",
        "from nltk.tokenize import RegexpTokenizer\n",
        "from gensim.parsing.preprocessing import remove_stopwords, strip_punctuation\n",
        "import numpy as np\n",
        "import inflect\n",
        "from nltk.stem import LancasterStemmer\n",
        "from nltk.stem import WordNetLemmatizer\n",
        "from tensorflow.keras.preprocessing.text import Tokenizer\n",
        "from tensorflow.keras.preprocessing.sequence import pad_sequences"
      ]
    },
    {
      "cell_type": "markdown",
      "metadata": {},
      "source": [
        "# 2. Initial Setup - Defining the driving variables"
      ]
    },
    {
      "cell_type": "code",
      "execution_count": 20,
      "metadata": {},
      "outputs": [],
      "source": [
        "# Determines which dataset use and how much to use :\n",
        "# HateSpeech: Column-0 : Sentence, Column-1 : Label [noHate-0, Hate-1]\n",
        "# either 'HateSpeech' or 'KaggleTwitter' or 'TDavidson'\n",
        "dataset_to_use = \"HateSpeech\"\n",
        "dataset_percentage = 100  # percentage range 1 to 100\n",
        "\n",
        "# Initializes file path, column of csv file to parse and\n",
        "# the delimiter for parsing\n",
        "training_file = \"\"\n",
        "test_file = \"\"\n",
        "sentence_column_to_parse = None\n",
        "label_column_to_parse = None\n",
        "lancaster = LancasterStemmer()\n",
        "wordnet_lemmatizer = WordNetLemmatizer()\n",
        "delimiter = \",\"\n",
        "if dataset_to_use == \"HateSpeech\":\n",
        "    training_file = \"datasets/hate-speech/train.txt\"\n",
        "    test_file = \"datasets/hate-speech/test.txt\"\n",
        "    delimiter = \"\\t\"\n",
        "    sentence_column_to_parse = 0\n",
        "    label_column_to_parse = 1\n",
        "elif dataset_to_use == \"KaggleTwitter\":\n",
        "    training_file = \"datasets/kaggle-twitter/train.csv\"\n",
        "    test_file = \"datasets/kaggle-twitter/test.csv\"\n",
        "    sentence_column_to_parse = 2\n",
        "    label_column_to_parse = 1\n",
        "elif dataset_to_use == \"TDavidson\":\n",
        "    training_file = \"datasets/t-davidson-hate-speech/labeled_data.csv\"\n",
        "    # TODO: Update test path for this dataset\n",
        "    # test_file = \"datasets/kaggle-twitter/test.csv\"\n",
        "    sentence_column_to_parse = 6\n",
        "    label_column_to_parse = 2\n",
        "else:\n",
        "    print(\"Invalid Dataset specified\")\n",
        "    sys.exit(1)"
      ]
    },
    {
      "cell_type": "markdown",
      "metadata": {},
      "source": [
        "# 1. Preprocessing the Data"
      ]
    },
    {
      "cell_type": "markdown",
      "metadata": {},
      "source": [
        "### Seven tasks are done as part of this:\n",
        "  - lower word case\n",
        "  - remove stopwords\n",
        "  - remove punctuation\n",
        "  - convert numbers to texts\n",
        "  - perform stemming\n",
        "  - Add - \\<s> and \\</s> for every sentence"
      ]
    },
    {
      "cell_type": "code",
      "execution_count": 21,
      "metadata": {},
      "outputs": [],
      "source": [
        "def replace_numbers(sentence:List[str]) -> List[str]:\n",
        "    \"\"\"Replace all interger occurrences in list of tokenized words\n",
        "    with textual representation\"\"\"\n",
        "    p = inflect.engine()\n",
        "    new_words = []  \n",
        "    for word in sentence.split():\n",
        "        if word.isdigit():\n",
        "            new_word = p.number_to_words(word)\n",
        "            new_words.append(new_word)\n",
        "        else:\n",
        "            new_words.append(word)\n",
        "    return \" \".join(new_words)\n",
        "\n",
        "def stem_words(sentence: List[str]) -> List[str]:\n",
        "    \"\"\"Stems the given sentence\n",
        "\n",
        "    Args:\n",
        "        sentence (list): words to be stemmed\n",
        "\n",
        "    Returns:\n",
        "        str: stemmed sentence\n",
        "    \"\"\"\n",
        "    stemmed_words = []\n",
        "    for word in sentence.split():\n",
        "        stemmed_words.append(lancaster.stem(word))\n",
        "    return \" \".join(stemmed_words)\n",
        "\n",
        "def preprocessing(running_lines: List[str]) -> List[str]:\n",
        "    \"\"\"This function takes in the running test and return back the\n",
        "    preprocessed text. Six tasks are done as part of this:\n",
        "      1. lower word case\n",
        "      2. remove stopwords\n",
        "      3. remove punctuation\n",
        "      4. convert numbers to texts\n",
        "      5. perform stemming\n",
        "\n",
        "    Args:\n",
        "        sentence (List[str]): list of lines\n",
        "\n",
        "    Returns:\n",
        "        List[str]: list of sentences which are processed\n",
        "    \"\"\"\n",
        "    preprocessed_lines = []\n",
        "    tokenizer = RegexpTokenizer(r\"\\w+\")\n",
        "    for line in running_lines:\n",
        "        # lower case\n",
        "        lower_case_data = line.lower()\n",
        "        # remove stop words\n",
        "        data_without_stop_word = remove_stopwords(lower_case_data)\n",
        "        # remove punctunation\n",
        "        data_without_punct = strip_punctuation(data_without_stop_word)\n",
        "        # replace numbers '1' to 'one'\n",
        "        processed_data = replace_numbers(data_without_punct)\n",
        "        # stem words\n",
        "        processed_data = stem_words(processed_data)\n",
        "        # add start and stop tags\n",
        "        # processed_data.insert(0, \"<s>\")\n",
        "        # processed_data.append(\"</s>\")\n",
        "        preprocessed_lines.append(processed_data)\n",
        "    return preprocessed_lines"
      ]
    },
    {
      "cell_type": "markdown",
      "metadata": {},
      "source": [
        "# 2. Parsing the data"
      ]
    },
    {
      "cell_type": "code",
      "execution_count": 22,
      "metadata": {},
      "outputs": [],
      "source": [
        "def parse_data(training_file_path: str, percentage: int,\n",
        "               sentence_column: int, label_column: int,\n",
        "               delimit: str):\n",
        "    \"\"\"This function is used to parse input lines\n",
        "    and returns a the provided percent of data.\n",
        "\n",
        "    Args:\n",
        "        lines (List[str]): list of lines\n",
        "        percentage (int): percent of the dataset needed\n",
        "        sentence_column (int): sentence column from the dataset\n",
        "        label_column (int): label column from the dataset\n",
        "        delimit (str): delimiter\n",
        "    Returns:\n",
        "        List[str], List[str]: examples , labels -> [percentage of dataset]\n",
        "    \"\"\"\n",
        "    percentage_sentences = []\n",
        "    percentage_labels = []\n",
        "    with open(training_file_path, \"r\", encoding=\"utf8\",\n",
        "              errors=\"ignore\") as csvfile:\n",
        "        read_sentences = []\n",
        "        label_sentences = []\n",
        "        csv_reader = reader(csvfile, delimiter=delimit)\n",
        "        # skipping header\n",
        "        header = next(csv_reader)\n",
        "        # line_length = len(list(csv_reader_copy))\n",
        "        if header is not None:\n",
        "            for row in csv_reader:\n",
        "                read_sentences.append(row[sentence_column])\n",
        "                label_sentences.append(int(row[label_column]))\n",
        "        end_of_data = int(len(read_sentences) * percentage * .01)\n",
        "        percentage_sentences = read_sentences[0:end_of_data]\n",
        "        percentage_labels = label_sentences[0:end_of_data]\n",
        "    return percentage_sentences, percentage_labels"
      ]
    },
    {
      "cell_type": "code",
      "execution_count": 23,
      "metadata": {},
      "outputs": [
        {
          "name": "stdout",
          "output_type": "stream",
          "text": [
            "Performing Improved - BiLSTM on HateSpeech with 100 % data \n"
          ]
        }
      ],
      "source": [
        "train_sentences, train_labels = parse_data(training_file,\n",
        "                                           dataset_percentage,\n",
        "                                           sentence_column_to_parse,\n",
        "                                           label_column_to_parse,\n",
        "                                           delimiter)\n",
        "# parse and preprocess the data\n",
        "processed_train_sentences = preprocessing(train_sentences)\n",
        "# verify the processed sentences\n",
        "# for sentence in sentences:\n",
        "#     print(sentence)\n",
        "# This is the baseline classifier\n",
        "print(\n",
        "    f\"Performing Improved - BiLSTM on {dataset_to_use}\"\n",
        "    f\" with {dataset_percentage} % data \")"
      ]
    },
    {
      "cell_type": "markdown",
      "metadata": {},
      "source": [
        "# 3. Building Model"
      ]
    },
    {
      "cell_type": "markdown",
      "metadata": {},
      "source": [
        "### 3.1 Generating word embeddings"
      ]
    },
    {
      "cell_type": "markdown",
      "metadata": {},
      "source": [
        "For this step, we intend to use the Keras library to build a recurrent neural network based on bidirectional LSTMs. The model will take word embeddings as input so we will use pre-trained GloVe embeddings to make the embedding dictionary."
      ]
    },
    {
      "cell_type": "code",
      "execution_count": 24,
      "metadata": {},
      "outputs": [],
      "source": [
        "def convert_sentence_word_embeddings(X_train_sentences:List[str]):\n",
        "    \"\"\"Converts the sentences into word embeddings.\n",
        "\n",
        "    Args:\n",
        "        X_train_sentences (List[str]): list of training sentences\n",
        "\n",
        "    Returns:\n",
        "        tuple: word embeddings for each sentence, vocab size and embedding dictionary\n",
        "    \"\"\"\n",
        "    tokenizer = Tokenizer()\n",
        "    text = np.array(X_train_sentences)\n",
        "    tokenizer.fit_on_texts(X_train_sentences)\n",
        "    # pickle.dump(tokenizer, open('text_tokenizer.pkl', 'wb'))\n",
        "    # Uncomment above line to save the tokenizer as .pkl file \n",
        "    sequences = tokenizer.texts_to_sequences(text)\n",
        "    word_index = tokenizer.word_index\n",
        "    text = pad_sequences(sequences)\n",
        "    print('Found %s unique tokens.' % len(word_index))\n",
        "    indices = np.arange(text.shape[0])\n",
        "    # np.random.shuffle(indices)\n",
        "    text = text[indices]\n",
        "    embeddings_dict = {}\n",
        "    file_embeddings = open(\"utils/glove.twitter.27B.50d.txt\", encoding=\"utf8\")\n",
        "    for embedding_line in file_embeddings:\n",
        "        values = embedding_line.split()\n",
        "        word = values[0]\n",
        "        coefs = np.asarray(values[1:], dtype='float32')\n",
        "        embeddings_dict[word] = coefs\n",
        "    file_embeddings.close()\n",
        "    print('Total %s word vectors.' % len(embeddings_dict))\n",
        "    return (text, word_index, embeddings_dict)"
      ]
    },
    {
      "cell_type": "code",
      "execution_count": 25,
      "metadata": {},
      "outputs": [
        {
          "name": "stdout",
          "output_type": "stream",
          "text": [
            "Found 3951 unique tokens.\n",
            "Total 1193514 word vectors.\n"
          ]
        }
      ],
      "source": [
        "X_train_Glove_s, word_index_s, embeddings_dict_s = convert_sentence_word_embeddings(processed_train_sentences)\n",
        "embedding_size = len(X_train_Glove_s[0])\n",
        "## Check function\n",
        "# x_train_sample = [\"Lorem Ipsum is simply dummy text of the printing and typesetting industry\", \"It is a long established fact that a reader will be distracted by the readable content of a page when looking at its layout\"]\n",
        "# X_train_Glove_s, word_index_s, embeddings_dict_s = convert_sentence_word_embeddings(x_train_sample)\n",
        "# print(\"\\n X_train_Glove_s \\n \", X_train_Glove_s)\n",
        "# print(\"\\n Word index of the word testing is : \", word_index_s[\"industry\"])\n",
        "# print(\"\\n Embedding for thw word want \\n \\n\", embeddings_dict_s[\"want\"])"
      ]
    },
    {
      "cell_type": "markdown",
      "metadata": {},
      "source": [
        "### 3.2 Defining function to create model"
      ]
    },
    {
      "cell_type": "code",
      "execution_count": 26,
      "metadata": {},
      "outputs": [],
      "source": [
        "import keras\n",
        "import tensorflow as tf\n",
        "import optuna\n",
        "from keras.models import Sequential\n",
        "from keras.layers import Dropout, Dense, Embedding, LSTM, Bidirectional\n",
        "from sklearn.model_selection import train_test_split\n",
        "import matplotlib.pyplot as plt"
      ]
    },
    {
      "cell_type": "code",
      "execution_count": 27,
      "metadata": {},
      "outputs": [],
      "source": [
        "def build_bilstm(\n",
        "    word_index, \n",
        "    embeddings_dict,   \n",
        "    embedding_dim,\n",
        "    num_hidden_layers,\n",
        "    num_nodes_per_hidden_layer,\n",
        "    num_nodes_final_fc_layer,\n",
        "    input_dropout,\n",
        "    recurrent_dropout,\n",
        "    output_dropout,\n",
        "    learning_rate,\n",
        "    max_sequence_length, \n",
        "    nclasses=2\n",
        "    ):\n",
        "\n",
        "    model = Sequential()\n",
        "    # Make the embedding matrix using the embedding_dict\n",
        "    embedding_matrix = np.random.random((len(word_index) + 1, embedding_dim))\n",
        "    for word, i in word_index.items():\n",
        "        embedding_vector = embeddings_dict.get(word)\n",
        "        if embedding_vector is not None:\n",
        "            # words not found in embedding index will be all-zeros.\n",
        "            if len(embedding_matrix[i]) != len(embedding_vector):\n",
        "                print(\"could not broadcast input array from shape\", str(len(embedding_matrix[i])),\n",
        "                      \"into shape\", str(len(embedding_vector)), \" Please make sure your\"\n",
        "                                                                \" embedding_dim is equal to embedding_vector file ,GloVe,\")\n",
        "                exit(1)\n",
        "            embedding_matrix[i] = embedding_vector\n",
        "            \n",
        "    # Add embedding layer\n",
        "    model.add(Embedding(len(word_index) + 1,\n",
        "                                embedding_dim,\n",
        "                                weights=[embedding_matrix],\n",
        "                                input_length=max_sequence_length,\n",
        "                                trainable=True))\n",
        "    # Add hidden layers \n",
        "    for i in range(0,num_hidden_layers):\n",
        "        # Add a bidirectional lstm layer\n",
        "        model.add(Bidirectional(LSTM(num_nodes_per_hidden_layer, return_sequences=True, recurrent_dropout=recurrent_dropout, dropout=input_dropout)))\n",
        "        # Add a dropout layer after each lstm layer\n",
        "        model.add(Dropout(output_dropout))\n",
        "    model.add(Bidirectional(LSTM(num_nodes_per_hidden_layer, recurrent_dropout=recurrent_dropout, dropout=input_dropout)))\n",
        "    model.add(Dropout(output_dropout))\n",
        "    # Add the fully connected layer with 256 nurons and relu activation\n",
        "    model.add(Dense(num_nodes_final_fc_layer, activation='relu'))\n",
        "    # Add the output layer with softmax activation since we have 2 classes\n",
        "    model.add(Dense(nclasses, activation='softmax'))\n",
        "    # Compile the model using sparse_categorical_crossentropy\n",
        "    opt = tf.keras.optimizers.Adam(learning_rate=learning_rate)\n",
        "    # keras.optimizers.ada\n",
        "    model.compile(loss='sparse_categorical_crossentropy',\n",
        "                      optimizer=opt,\n",
        "                      metrics=['accuracy'])\n",
        "    return model"
      ]
    },
    {
      "cell_type": "code",
      "execution_count": 28,
      "metadata": {},
      "outputs": [
        {
          "data": {
            "text/plain": [
              "False"
            ]
          },
          "execution_count": 28,
          "metadata": {},
          "output_type": "execute_result"
        }
      ],
      "source": [
        "import os\n",
        "os.environ['CUDA_VISIBLE_DEVICES']='-1'\n",
        "tf.test.is_gpu_available()\n",
        "#tf.config.list_physical_devices()"
      ]
    },
    {
      "cell_type": "code",
      "execution_count": 34,
      "metadata": {},
      "outputs": [
        {
          "name": "stdout",
          "output_type": "stream",
          "text": [
            "Building Model!\n"
          ]
        }
      ],
      "source": [
        "print(\"Building Model!\")\n",
        "\n",
        "# The ones we want to look at:\n",
        "# 1. Number of BiLSTM layers\n",
        "# 2. Number of nodes per BiLSTM layer\n",
        "# 4. Learning rate\n",
        "# 5. Embedding dimension\n",
        "\n",
        "def objective(trial):\n",
        "\n",
        "    model = build_bilstm(\n",
        "        word_index=word_index_s, \n",
        "        embeddings_dict=embeddings_dict_s, \n",
        "        embedding_dim=50, #50 \n",
        "        num_hidden_layers=3,\n",
        "        # num_hidden_layers=trial.suggest_int(\"num_hidden_layers\", 1, 5, step=1), #3 \n",
        "        num_nodes_per_hidden_layer=8,\n",
        "        # num_nodes_per_hidden_layer=trial.suggest_int(\"num_nodes_per_hidden_layer\", 4, 64, step=2), #32\n",
        "        num_nodes_final_fc_layer=64, #256\n",
        "        input_dropout=0,\n",
        "        recurrent_dropout=.2,\n",
        "        output_dropout=.5,\n",
        "        learning_rate=trial.suggest_float(\"lr\", 1e-5, 1e-1, log=True),\n",
        "        max_sequence_length=embedding_size)\n",
        "    # model.summary()\n",
        "\n",
        "    X_train, X_test, y_train, y_test = train_test_split(X_train_Glove_s, train_labels, test_size = 0.2)\n",
        "    data_history = model.fit(np.array(X_train), np.array(y_train),\n",
        "                           validation_data=(np.array(X_test),np.array(y_test)),\n",
        "                           epochs=5,\n",
        "                           batch_size=128,\n",
        "                           verbose=1)\n",
        "\n",
        "    trial.set_user_attr(\"loss\", data_history.history['loss'])\n",
        "    trial.set_user_attr(\"accuracy\", data_history.history['accuracy'])\n",
        "    \n",
        "    score = model.evaluate(np.array(X_test), np.array(y_test), verbose=0)\n",
        "    return score[1]"
      ]
    },
    {
      "cell_type": "code",
      "execution_count": 36,
      "metadata": {},
      "outputs": [
        {
          "name": "stderr",
          "output_type": "stream",
          "text": [
            "\u001b[32m[I 2021-12-11 12:02:22,764]\u001b[0m A new study created in memory with name: no-name-93fb37c7-28f0-4884-9e38-94a1dd552a2e\u001b[0m\n"
          ]
        },
        {
          "name": "stdout",
          "output_type": "stream",
          "text": [
            "Epoch 1/5\n",
            "24/24 [==============================] - 35s 675ms/step - loss: 0.6938 - accuracy: 0.5020 - val_loss: 0.6930 - val_accuracy: 0.4935\n",
            "Epoch 2/5\n",
            "24/24 [==============================] - 14s 590ms/step - loss: 0.6937 - accuracy: 0.5052 - val_loss: 0.6928 - val_accuracy: 0.4987\n",
            "Epoch 3/5\n",
            "24/24 [==============================] - 14s 600ms/step - loss: 0.6951 - accuracy: 0.4784 - val_loss: 0.6926 - val_accuracy: 0.5039\n",
            "Epoch 4/5\n",
            "24/24 [==============================] - 16s 688ms/step - loss: 0.6946 - accuracy: 0.4876 - val_loss: 0.6925 - val_accuracy: 0.5039\n",
            "Epoch 5/5\n",
            "24/24 [==============================] - 15s 641ms/step - loss: 0.6939 - accuracy: 0.4993 - val_loss: 0.6923 - val_accuracy: 0.5065\n"
          ]
        },
        {
          "name": "stderr",
          "output_type": "stream",
          "text": [
            "\u001b[32m[I 2021-12-11 12:04:04,515]\u001b[0m Trial 0 finished with value: 0.4843137264251709 and parameters: {'lr': 2.645508022913715e-05}. Best is trial 0 with value: 0.4843137264251709.\u001b[0m\n"
          ]
        },
        {
          "name": "stdout",
          "output_type": "stream",
          "text": [
            "Epoch 1/5\n",
            "24/24 [==============================] - 41s 737ms/step - loss: 0.6810 - accuracy: 0.5582 - val_loss: 0.6205 - val_accuracy: 0.6501\n",
            "Epoch 2/5\n",
            "24/24 [==============================] - 15s 617ms/step - loss: 0.5873 - accuracy: 0.7235 - val_loss: 0.5227 - val_accuracy: 0.7676\n",
            "Epoch 3/5\n",
            "24/24 [==============================] - 16s 654ms/step - loss: 0.4168 - accuracy: 0.8418 - val_loss: 0.5278 - val_accuracy: 0.7911\n",
            "Epoch 4/5\n",
            "24/24 [==============================] - 14s 605ms/step - loss: 0.2539 - accuracy: 0.9157 - val_loss: 0.5406 - val_accuracy: 0.7859\n",
            "Epoch 5/5\n",
            "24/24 [==============================] - 14s 605ms/step - loss: 0.1620 - accuracy: 0.9556 - val_loss: 0.8009 - val_accuracy: 0.7572\n"
          ]
        },
        {
          "name": "stderr",
          "output_type": "stream",
          "text": [
            "\u001b[32m[I 2021-12-11 12:05:50,291]\u001b[0m Trial 1 finished with value: 0.9803921580314636 and parameters: {'lr': 0.014110404160740709}. Best is trial 1 with value: 0.9803921580314636.\u001b[0m\n"
          ]
        },
        {
          "name": "stdout",
          "output_type": "stream",
          "text": [
            "Number of finished trials: 2\n",
            "Best trial:\n",
            "  Value: 0.9803921580314636\n",
            "  Params: \n",
            "    lr: 0.014110404160740709\n"
          ]
        }
      ],
      "source": [
        "study = optuna.create_study(direction=\"maximize\")\n",
        "study.optimize(objective, n_trials=2, timeout=600)\n",
        "\n",
        "print(\"Number of finished trials: {}\".format(len(study.trials)))\n",
        "\n",
        "print(\"Best trial:\")\n",
        "trial = study.best_trial\n",
        "\n",
        "print(\"  Value: {}\".format(trial.value))\n",
        "\n",
        "print(\"  Params: \")\n",
        "for key, value in trial.params.items():\n",
        "    print(\"    {}: {}\".format(key, value))"
      ]
    },
    {
      "cell_type": "code",
      "execution_count": 31,
      "metadata": {},
      "outputs": [
        {
          "name": "stdout",
          "output_type": "stream",
          "text": [
            "  Params: \n",
            "[0.6934448480606079, 0.6916393041610718]\n",
            "[0.5091503262519836, 0.5196078419685364]\n",
            "    lr: 0.00032443137857540645\n",
            "[0.6912825107574463, 0.6263543367385864]\n",
            "[0.5228758454322815, 0.6509804129600525]\n",
            "    lr: 0.022125436178514927\n"
          ]
        }
      ],
      "source": [
        "all_trials = study.get_trials();\n",
        "\n",
        "print(\"  Params: \")\n",
        "for trial in all_trials:\n",
        "    print(trial.user_attrs[\"loss\"])\n",
        "    print(trial.user_attrs[\"accuracy\"])\n",
        "    for key, value in trial.params.items():\n",
        "        print(\"    {}: {}\".format(key, value))"
      ]
    },
    {
      "cell_type": "code",
      "execution_count": 32,
      "metadata": {},
      "outputs": [],
      "source": [
        "# X_train, X_test, y_train, y_test = train_test_split(X_train_Glove_s, train_labels, test_size = 0.2)\n",
        "# data_history = model.fit(np.array(X_train), np.array(y_train),\n",
        "#                            validation_data=(np.array(X_test),np.array(y_test)),\n",
        "#                            epochs=20,\n",
        "#                            batch_size=128,\n",
        "#                            verbose=1)"
      ]
    },
    {
      "cell_type": "code",
      "execution_count": 33,
      "metadata": {},
      "outputs": [
        {
          "data": {
            "image/png": "[encoded data removed]",
            "text/plain": [
              "<Figure size 640x640 with 1 Axes>"
            ]
          },
          "metadata": {
            "needs_background": "light"
          },
          "output_type": "display_data"
        },
        {
          "data": {
            "image/png": "[encoded data removed]",
            "text/plain": [
              "<Figure size 640x640 with 1 Axes>"
            ]
          },
          "metadata": {
            "needs_background": "light"
          },
          "output_type": "display_data"
        }
      ],
      "source": [
        "# def plot_graphs(axs, graph_index, history, string):\n",
        "#     axs[graph_index].plot(history.history[string])\n",
        "#     axs[graph_index].plot(history.history['val_'+string], '')\n",
        "#     # axs[graph_index].xlabel(\"Epochs\")\n",
        "#     # axs[graph_index].ylabel(string)\n",
        "#     axs[graph_index].set(xlabel=\"Epochs\", ylabel=string)\n",
        "#     axs[graph_index].legend([string, 'val_'+string])\n",
        "#     # axs[graph_index].show()\n",
        "\n",
        "# fig, axs = plt.subplots(2, figsize=(15, 15))\n",
        "                        \n",
        "# plot_graphs(axs, 0, data_history, 'accuracy')\n",
        "# plot_graphs(axs, 1, data_history, 'loss')\n",
        "\n",
        "from matplotlib.pyplot import figure\n",
        "\n",
        "def plot_graphs_loss(trials):\n",
        "    legends = []\n",
        "    figure(figsize=(8, 8), dpi=80)\n",
        "    for trial in trials:\n",
        "        list_all_loss = trial.user_attrs['loss']\n",
        "        legends.append(trial.params[\"lr\"])\n",
        "        plt.plot(list_all_loss)\n",
        "    plt.xlabel(\"Epochs\")\n",
        "    plt.ylabel(\"Loss\")\n",
        "    plt.legend(legends)\n",
        "    plt.savefig(\"loss.png\")\n",
        "    plt.show()\n",
        "\n",
        "def plot_graphs_accuracy(trials):\n",
        "    legends = []\n",
        "    figure(figsize=(8, 8), dpi=80)\n",
        "    for trial in trials:\n",
        "        list_all_loss = trial.user_attrs['accuracy']\n",
        "        legends.append(trial.params[\"lr\"])\n",
        "        plt.plot(list_all_loss)\n",
        "    plt.xlabel(\"Epochs\")\n",
        "    plt.ylabel(\"Accuracy\")\n",
        "    plt.legend(legends)\n",
        "    plt.savefig(\"accuracy.png\")\n",
        "    plt.show()\n",
        "\n",
        "plot_graphs_loss(all_trials)\n",
        "plot_graphs_accuracy(all_trials)"
      ]
    }
  ],
  "metadata": {
    "colab": {
      "collapsed_sections": [],
      "include_colab_link": true,
      "name": "Script.ipynb",
      "provenance": []
    },
    "kernelspec": {
      "display_name": "Python 3",
      "name": "python3"
    },
    "language_info": {
      "codemirror_mode": {
        "name": "ipython",
        "version": 3
      },
      "file_extension": ".py",
      "mimetype": "text/x-python",
      "name": "python",
      "nbconvert_exporter": "python",
      "pygments_lexer": "ipython3",
      "version": "3.9.7"
    }
  },
  "nbformat": 4,
  "nbformat_minor": 0
}
