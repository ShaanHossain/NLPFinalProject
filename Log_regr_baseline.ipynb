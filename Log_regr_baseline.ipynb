{
 "cells": [
  {
   "cell_type": "markdown",
   "metadata": {},
   "source": [
    "Logistic Regression Baseline Tests\n",
    "====\n",
    "\n",
    "## 1. Importing Dependencies\n"
   ]
  },
  {
   "cell_type": "code",
   "execution_count": 83,
   "metadata": {},
   "outputs": [],
   "source": [
    "# Import modules\n",
    "import sys\n",
    "from csv import reader\n",
    "from typing import List\n",
    "from nltk.tokenize import RegexpTokenizer\n",
    "from gensim.parsing.preprocessing import remove_stopwords, strip_punctuation\n",
    "import numpy as np\n",
    "from keras.models import Sequential\n",
    "from keras.layers import Dense\n",
    "from keras.losses import BinaryCrossentropy as bc\n",
    "from keras.regularizers import l2\n",
    "import keras.backend as K\n",
    "from nltk.stem import LancasterStemmer\n",
    "import inflect\n",
    "import matplotlib.pyplot as plt\n"
   ]
  },
  {
   "cell_type": "markdown",
   "metadata": {},
   "source": [
    "## 2. Initial Setup - Defining the driving variables, select dataset"
   ]
  },
  {
   "cell_type": "code",
   "execution_count": 84,
   "metadata": {},
   "outputs": [],
   "source": [
    "# Determines which dataset use and how much to use :\n",
    "# HateSpeech: Column-0 : Sentence, Column-1 : Label [noHate-0, Hate-1]\n",
    "# either 'HateSpeech' or 'KaggleTwitter' or 'TDavidson'\n",
    "dataset_to_use = \"TDavidson\"\n",
    "dataset_percentage = 100  # percentage range 1 to 100\n",
    "\n",
    "# Initializes file path, column of csv file to parse and\n",
    "# the delimiter for parsing\n",
    "training_file = \"\"\n",
    "test_file = \"\"\n",
    "sentence_column_to_parse = None\n",
    "label_column_to_parse = None\n",
    "lancaster = LancasterStemmer()\n",
    "delimiter = \",\"\n",
    "if dataset_to_use == \"HateSpeech\":\n",
    "    training_file = \"datasets/hate-speech/train.txt\"\n",
    "    test_file = \"datasets/hate-speech/test.txt\"\n",
    "    delimiter = \"\\t\"\n",
    "    sentence_column_to_parse = 0\n",
    "    label_column_to_parse = 1\n",
    "elif dataset_to_use == \"KaggleTwitter\":\n",
    "    training_file = \"datasets/kaggle-twitter/newtrain.csv\"\n",
    "    test_file = \"datasets/kaggle-twitter/newtest.csv\"\n",
    "    sentence_column_to_parse = 0\n",
    "    label_column_to_parse = 1\n",
    "elif dataset_to_use == \"TDavidson\":\n",
    "    training_file = \"datasets/t-davidson-hate-speech/train.csv\"\n",
    "    test_file = \"datasets/t-davidson-hate-speech/test.csv\"\n",
    "    sentence_column_to_parse = 0\n",
    "    label_column_to_parse = 1\n",
    "else:\n",
    "    print(\"Invalid Dataset specified\")\n",
    "    sys.exit(1)"
   ]
  },
  {
   "cell_type": "markdown",
   "metadata": {},
   "source": [
    "## 3. Parsing the Data"
   ]
  },
  {
   "cell_type": "code",
   "execution_count": 85,
   "metadata": {},
   "outputs": [],
   "source": [
    "def parse_data(training_file_path: str, percentage: int,\n",
    "               sentence_column: int, label_column: int,\n",
    "               delimit: str) -> List[str]:\n",
    "    \"\"\"This function is used to parse input lines\n",
    "    and returns a the provided percent of data.\n",
    "\n",
    "    Args:\n",
    "        lines (List[str]): list of lines\n",
    "        percentage (int): percent of the dataset needed\n",
    "        sentence_column (int): sentence column from the dataset\n",
    "        label_column (int): label column from the dataset\n",
    "        delimit (str): delimiter\n",
    "    Returns:\n",
    "        List[str], List[str]: examples , labels -> [percentage of dataset]\n",
    "    \"\"\"\n",
    "    percentage_sentences = []\n",
    "    percentage_labels = []\n",
    "    with open(training_file_path, \"r\", encoding=\"utf8\",\n",
    "              errors=\"ignore\") as csvfile:\n",
    "        read_sentences = []\n",
    "        label_sentences = []\n",
    "        csv_reader = reader(csvfile, delimiter=delimit)\n",
    "        # skipping header\n",
    "        header = next(csv_reader)\n",
    "        # line_length = len(list(csv_reader_copy))\n",
    "        if header is not None:\n",
    "            for row in csv_reader:\n",
    "                read_sentences.append(row[sentence_column])\n",
    "                label_sentences.append(row[label_column])\n",
    "        end_of_data = int(len(read_sentences) * percentage * .01)\n",
    "\n",
    "        zipped = np.array(list(zip(read_sentences,label_sentences)))\n",
    "        idx = [i for i in range(zipped.shape[0])]\n",
    "\n",
    "        rng = np.random.default_rng(15)\n",
    "        rand_idx = rng.choice(idx, size=end_of_data, replace=False)\n",
    "        percentage_zipped = np.array([zipped[j] for j in rand_idx])\n",
    "\n",
    "        percentage_sentences = percentage_zipped[:,0]\n",
    "        percentage_labels = percentage_zipped[:,1]\n",
    "    return percentage_sentences, percentage_labels"
   ]
  },
  {
   "cell_type": "code",
   "execution_count": 86,
   "metadata": {},
   "outputs": [],
   "source": [
    "train_sentences, train_labels = parse_data(training_file,\n",
    "                                           dataset_percentage,\n",
    "                                           sentence_column_to_parse,\n",
    "                                           label_column_to_parse,\n",
    "                                           delimiter)\n",
    "\n",
    "test_sentences, baseline_gold_labels = parse_data(\n",
    "    test_file, dataset_percentage,\n",
    "    sentence_column_to_parse,\n",
    "    label_column_to_parse, delimiter)"
   ]
  },
  {
   "cell_type": "markdown",
   "metadata": {},
   "source": [
    "## 4. Preprocessing the Data\n",
    "\n",
    "### Seven tasks are done as part of this:\n",
    "  - lower word case\n",
    "  - remove stopwords\n",
    "  - remove punctuation\n",
    "  - convert numbers to texts\n",
    "  - perform stemming\n",
    "  - tokenize\n",
    "  - Add - \\<s> and \\</s> for every sentence"
   ]
  },
  {
   "cell_type": "code",
   "execution_count": 87,
   "metadata": {},
   "outputs": [],
   "source": [
    "def replace_numbers(sentence:List[str]) -> List[str]:\n",
    "    \"\"\"Replace all interger occurrences in list of tokenized words\n",
    "    with textual representation\"\"\"\n",
    "    p = inflect.engine()\n",
    "    new_words = []  \n",
    "    for word in sentence.split():\n",
    "        if word.isdigit():\n",
    "            new_word = p.number_to_words(word)\n",
    "            new_words.append(new_word)\n",
    "        else:\n",
    "            new_words.append(word)\n",
    "    return \" \".join(new_words)\n",
    "\n",
    "def stem_words(sentence: List[str]) -> List[str]:\n",
    "    \"\"\"Stems the given sentence\n",
    "\n",
    "    Args:\n",
    "        sentence (list): words to be stemmed\n",
    "\n",
    "    Returns:\n",
    "        str: stemmed sentence\n",
    "    \"\"\"\n",
    "    stemmed_words = []\n",
    "    for word in sentence.split():\n",
    "        stemmed_words.append(lancaster.stem(word))\n",
    "    return \" \".join(stemmed_words)\n",
    "\n",
    "def preprocessing(running_lines: List[str]) -> List[List[str]]:\n",
    "    \"\"\"This function takes in the running test and return back the\n",
    "    preprocessed text. Seven tasks are done as part of this:\n",
    "      1. lower word case\n",
    "      2. remove stopwords\n",
    "      3. remove punctuation\n",
    "      4. convert numbers to texts\n",
    "      5. perform stemming\n",
    "      6. tokenize\n",
    "      7. Add - <s> and </s> for every sentence\n",
    "\n",
    "    Args:\n",
    "        running_lines (List[str]): list of lines\n",
    "\n",
    "    Returns:\n",
    "        List[List[str]]: list of tokenized sentences which are processed\n",
    "    \"\"\"\n",
    "    preprocessed_lines = []\n",
    "    tokenizer = RegexpTokenizer(r\"\\w+\")\n",
    "    for line in running_lines:\n",
    "        lower_case_data = line.lower()\n",
    "        data_without_stop_word = remove_stopwords(lower_case_data)\n",
    "        data_without_punct = strip_punctuation(data_without_stop_word)\n",
    "        processed_data = replace_numbers(data_without_punct)\n",
    "        processed_data = stem_words(processed_data)\n",
    "        processed_data = tokenizer.tokenize(data_without_punct)\n",
    "        processed_data.insert(0, \"<s>\")\n",
    "        processed_data.append(\"</s>\")\n",
    "        preprocessed_lines.append(\" \".join(processed_data))\n",
    "    return preprocessed_lines"
   ]
  },
  {
   "cell_type": "code",
   "execution_count": 88,
   "metadata": {},
   "outputs": [],
   "source": [
    "# parse and preprocess the data\n",
    "processed_train_sentences = preprocessing(train_sentences)\n",
    "\n",
    "processed_test_sentences = preprocessing(test_sentences)"
   ]
  },
  {
   "cell_type": "markdown",
   "metadata": {},
   "source": [
    "## 5. Featurize the data\n",
    "\n",
    "Features:\n",
    "- \\# positive words (from lexicon)\n",
    "- \\# negative words (from lexicon)\n",
    "- If ! exists\n",
    "- Bias"
   ]
  },
  {
   "cell_type": "code",
   "execution_count": 89,
   "metadata": {},
   "outputs": [],
   "source": [
    "positive_words_lexicon = open(\n",
    "            \"positive_words.txt\").read().split()\n",
    "negative_words_lexicon = open(\n",
    "            \"negative_words.txt\").read().split()\n",
    "\n",
    "def featurize(data: str)-> List[str]:\n",
    "        \"\"\"\n",
    "        we use this format to make implementation of this class\n",
    "        more straightforward and to be\n",
    "        consistent with what you see in nltk\n",
    "        Parameters:\n",
    "          data - str like \"I loved the hotel\"\n",
    "        Return: a list of tuples linking features to values\n",
    "        for BoW, a list of tuples linking every word to True [(\"I\", True), (\"loved\", True), (\"it\", True)]\n",
    "        \"\"\"\n",
    "        # We are considering four features + one bias for this\n",
    "        # 1. Count (+ve lexicon  in document/sentence)\n",
    "        # 2. Count (-ve lexicon in document/sentence)\n",
    "        # 3. If '!' exists in document then 1, else 0\n",
    "        # 4. Log(wordcount)\n",
    "        # 5. Bias\n",
    "        # Note: to get the best f1 score in the test set, I am considering\n",
    "        # the first three features plus bias. However, to run all four features\n",
    "        # uncomment the line 272, 338, and 346; comment line:271 and 345\n",
    "        words = data.split()\n",
    "        x1 = 0\n",
    "        x2 = 0\n",
    "        x3 = 1 if '!' in data else 0\n",
    "        # x4 = np.log(len(words))\n",
    "        x5 = 1\n",
    "        for word in words:\n",
    "            if word in positive_words_lexicon:\n",
    "                x1 += 1\n",
    "            if word in negative_words_lexicon:\n",
    "                x2 += 1\n",
    "        feature_list = [x1, x2, x3, x5]\n",
    "        # feature_list = [x1, x2, x3, x4, x5]\n",
    "        return feature_list"
   ]
  },
  {
   "cell_type": "markdown",
   "metadata": {},
   "source": [
    "Also calculate class weights, and convert labels to integers"
   ]
  },
  {
   "cell_type": "code",
   "execution_count": 90,
   "metadata": {},
   "outputs": [],
   "source": [
    "featurized_train = [featurize(s) for s in processed_train_sentences]\n",
    "featurized_test = [featurize(s) for s in processed_test_sentences]\n",
    "\n",
    "train_labels = [int(x) for x in train_labels]\n",
    "\n",
    "baseline_gold_labels = [int(x) for x in baseline_gold_labels]\n",
    "\n",
    "poscount = sum(train_labels)\n",
    "negcount = len(train_labels) - poscount\n",
    "posweight = 1./poscount\n",
    "negweight = 1./negcount\n",
    "\n",
    "classwt = {0: negweight, 1:posweight}"
   ]
  },
  {
   "cell_type": "markdown",
   "metadata": {},
   "source": [
    "## 6. Building Model\n",
    "\n",
    "### 6.1 Define Metric Functions"
   ]
  },
  {
   "cell_type": "code",
   "execution_count": 91,
   "metadata": {},
   "outputs": [],
   "source": [
    "def get_f1(y_true: List[int], y_pred: List[int]) -> float:\n",
    "    \"\"\"generates the f1 score\n",
    "\n",
    "    Args:\n",
    "        y_true (List[int]): y gold labels\n",
    "        y_pred (List[int]): y pred labels\n",
    "\n",
    "    Returns:\n",
    "        float: computed f1 score\n",
    "    \"\"\"\n",
    "    true_positives = K.sum(K.round(K.clip(y_true * y_pred, 0, 1)))\n",
    "    possible_positives = K.sum(K.round(K.clip(y_true, 0, 1)))\n",
    "    predicted_positives = K.sum(K.round(K.clip(y_pred, 0, 1)))\n",
    "    precision = true_positives / (predicted_positives + K.epsilon())\n",
    "    recall = true_positives / (possible_positives + K.epsilon())\n",
    "    f1_val = 2*(precision*recall)/(precision+recall+K.epsilon())\n",
    "    return f1_val\n",
    "\n",
    "def get_precision(y_true: List[int], y_pred: List[int]) -> float:\n",
    "    \"\"\"generates the precision\n",
    "\n",
    "    Args:\n",
    "        y_true (List[int]): y gold labels\n",
    "        y_pred (List[int]): y pred labels\n",
    "\n",
    "    Returns:\n",
    "        float: computed precision\n",
    "    \"\"\"\n",
    "    true_positives = K.sum(K.round(K.clip(y_true * y_pred, 0, 1)))\n",
    "    predicted_positives = K.sum(K.round(K.clip(y_pred, 0, 1)))\n",
    "    precision = true_positives / (predicted_positives + K.epsilon())\n",
    "    return precision\n",
    "\n",
    "def get_recall(y_true: List[int], y_pred: List[int]) -> float:\n",
    "    \"\"\"generates the recall\n",
    "\n",
    "    Args:\n",
    "        y_true (List[int]): y gold labels\n",
    "        y_pred (List[int]): y predicted labels\n",
    "\n",
    "    Returns:\n",
    "        float: computed recall\n",
    "    \"\"\"\n",
    "    true_positives = K.sum(K.round(K.clip(y_true * y_pred, 0, 1)))\n",
    "    possible_positives = K.sum(K.round(K.clip(y_true, 0, 1)))\n",
    "    recall = true_positives / (possible_positives + K.epsilon())\n",
    "    return recall"
   ]
  },
  {
   "cell_type": "markdown",
   "metadata": {},
   "source": [
    "### 6.2 Create Baseline Model - Logistic Regression to Perform Binary Clasification\n",
    "\n",
    "This is done using a Keras sequential model, with 1 single node using sigmoid activation. This was done to make used of the l2 regularizer, since the data is not evenly split between the classes"
   ]
  },
  {
   "cell_type": "code",
   "execution_count": 92,
   "metadata": {},
   "outputs": [],
   "source": [
    "model = Sequential()\n",
    "model.add(Dense(1, input_dim=4, activation='sigmoid', kernel_regularizer=l2()))\n",
    "model.compile(optimizer=\"adam\", loss=bc(), metrics=['accuracy', get_f1, get_precision, get_recall])"
   ]
  },
  {
   "cell_type": "markdown",
   "metadata": {},
   "source": [
    "### 6.3 Train the model"
   ]
  },
  {
   "cell_type": "code",
   "execution_count": 93,
   "metadata": {},
   "outputs": [
    {
     "name": "stdout",
     "output_type": "stream",
     "text": [
      "Epoch 1/20\n",
      "123/123 [==============================] - 1s 1ms/step - loss: 0.0217 - accuracy: 0.3992 - get_f1: 0.4189 - get_precision: 0.2821 - get_recall: 0.8763\n",
      "Epoch 2/20\n",
      "123/123 [==============================] - 0s 1ms/step - loss: 0.0159 - accuracy: 0.4013 - get_f1: 0.4197 - get_precision: 0.2825 - get_recall: 0.8731\n",
      "Epoch 3/20\n",
      "123/123 [==============================] - 0s 1ms/step - loss: 0.0115 - accuracy: 0.4056 - get_f1: 0.4164 - get_precision: 0.2813 - get_recall: 0.8527\n",
      "Epoch 4/20\n",
      "123/123 [==============================] - 0s 1ms/step - loss: 0.0082 - accuracy: 0.4521 - get_f1: 0.4141 - get_precision: 0.2894 - get_recall: 0.7784\n",
      "Epoch 5/20\n",
      "123/123 [==============================] - 0s 1ms/step - loss: 0.0057 - accuracy: 0.5456 - get_f1: 0.4160 - get_precision: 0.3266 - get_recall: 0.6535\n",
      "Epoch 6/20\n",
      "123/123 [==============================] - 0s 1ms/step - loss: 0.0040 - accuracy: 0.6337 - get_f1: 0.4126 - get_precision: 0.3547 - get_recall: 0.5265\n",
      "Epoch 7/20\n",
      "123/123 [==============================] - 0s 1ms/step - loss: 0.0027 - accuracy: 0.6332 - get_f1: 0.3905 - get_precision: 0.3467 - get_recall: 0.4875\n",
      "Epoch 8/20\n",
      "123/123 [==============================] - 0s 1ms/step - loss: 0.0019 - accuracy: 0.6626 - get_f1: 0.3612 - get_precision: 0.3796 - get_recall: 0.4144\n",
      "Epoch 9/20\n",
      "123/123 [==============================] - 0s 1ms/step - loss: 0.0013 - accuracy: 0.7328 - get_f1: 0.2754 - get_precision: 0.4297 - get_recall: 0.2220\n",
      "Epoch 10/20\n",
      "123/123 [==============================] - 0s 2ms/step - loss: 9.0815e-04 - accuracy: 0.7331 - get_f1: 0.2869 - get_precision: 0.4681 - get_recall: 0.2280\n",
      "Epoch 11/20\n",
      "123/123 [==============================] - 0s 2ms/step - loss: 6.7469e-04 - accuracy: 0.7405 - get_f1: 0.1347 - get_precision: 0.3668 - get_recall: 0.0918\n",
      "Epoch 12/20\n",
      "123/123 [==============================] - 0s 1ms/step - loss: 5.3338e-04 - accuracy: 0.7436 - get_f1: 0.1126 - get_precision: 0.3531 - get_recall: 0.0706    \n",
      "Epoch 13/20\n",
      "123/123 [==============================] - 0s 1ms/step - loss: 4.5078e-04 - accuracy: 0.7481 - get_f1: 0.0524 - get_precision: 0.2209 - get_recall: 0.0306    \n",
      "Epoch 14/20\n",
      "123/123 [==============================] - 0s 1ms/step - loss: 4.0426e-04 - accuracy: 0.7466 - get_f1: 0.0266 - get_precision: 0.1220 - get_recall: 0.0151  \n",
      "Epoch 15/20\n",
      "123/123 [==============================] - 0s 1ms/step - loss: 3.7902e-04 - accuracy: 0.7456 - get_f1: 0.0134 - get_precision: 0.0610 - get_recall: 0.00760000e+ - ETA: 0s - loss: 3.8529e-04 - accuracy: 0.7451 - get_f1: 0.0145 - get_precision: 0.0667 - get_recall: 0.0082        \n",
      "Epoch 16/20\n",
      "123/123 [==============================] - 0s 1ms/step - loss: 3.6590e-04 - accuracy: 0.7448 - get_f1: 0.0057 - get_precision: 0.0244 - get_recall: 0.0033  \n",
      "Epoch 17/20\n",
      "123/123 [==============================] - 0s 2ms/step - loss: 3.5938e-04 - accuracy: 0.7448 - get_f1: 0.0080 - get_precision: 0.0325 - get_recall: 0.0046\n",
      "Epoch 18/20\n",
      "123/123 [==============================] - 0s 1ms/step - loss: 3.5632e-04 - accuracy: 0.7451 - get_f1: 0.0086 - get_precision: 0.0325 - get_recall: 0.0050  \n",
      "Epoch 19/20\n",
      "123/123 [==============================] - 0s 1ms/step - loss: 3.5495e-04 - accuracy: 0.7456 - get_f1: 0.0100 - get_precision: 0.0488 - get_recall: 0.0056  \n",
      "Epoch 20/20\n",
      "123/123 [==============================] - 0s 1ms/step - loss: 3.5436e-04 - accuracy: 0.7456 - get_f1: 0.0243 - get_precision: 0.1138 - get_recall: 0.0138  \n"
     ]
    }
   ],
   "source": [
    "data_history = model.fit(featurized_train,train_labels,\n",
    "                epochs=20,\n",
    "                class_weight=classwt)"
   ]
  },
  {
   "cell_type": "code",
   "execution_count": 94,
   "metadata": {},
   "outputs": [
    {
     "name": "stdout",
     "output_type": "stream",
     "text": [
      "53/53 [==============================] - 0s 806us/step - loss: 0.6892 - accuracy: 0.7467 - get_f1: 0.0143 - get_precision: 0.0566 - get_recall: 0.0082       \n"
     ]
    }
   ],
   "source": [
    "eh = model.evaluate(x=featurized_test,\n",
    "                    y=baseline_gold_labels)\n",
    "\n",
    "eval_history = {\"loss\": eh[0], \"accuracy\": eh[1], \"get_f1\": eh[2], \"get_precission\": eh[3],\n",
    " \"get_recall\": eh[4]}"
   ]
  },
  {
   "cell_type": "code",
   "execution_count": 95,
   "metadata": {},
   "outputs": [
    {
     "data": {
      "image/png": "[encoded data removed]",
      "text/plain": [
       "<Figure size 1080x1080 with 6 Axes>"
      ]
     },
     "metadata": {
      "needs_background": "light"
     },
     "output_type": "display_data"
    }
   ],
   "source": [
    "def plot_graphs(axs, gi1:int, gi2:int, history, string:str, title:str):\n",
    "    \"\"\"plots the graphs based on the provided parameters.\n",
    "\n",
    "    Args:\n",
    "        axs (plot): list of plots\n",
    "        gi1 (int): row\n",
    "        gi2 (int): col\n",
    "        history (data_history): values of the label\n",
    "        string (str): y label\n",
    "        title (str): plot title\n",
    "    \"\"\"\n",
    "    axs[gi1,gi2].plot(history[string])\n",
    "    axs[gi1,gi2].set(xlabel=\"Epochs\", ylabel=string,title=title)\n",
    "\n",
    "fig, axs = plt.subplots(nrows=3,ncols=2, figsize=(15, 15), constrained_layout=True)\n",
    "                        \n",
    "plot_graphs(axs, 0,0, data_history.history, 'accuracy', 'Accuracy')\n",
    "plot_graphs(axs, 0,1, data_history.history, 'loss', 'Loss')\n",
    "plot_graphs(axs, 1,0, data_history.history, 'get_f1', 'F1 Score')\n",
    "plot_graphs(axs, 1,1, data_history.history, 'get_precision', 'Precision')\n",
    "plot_graphs(axs, 2,0, data_history.history, 'get_recall', 'Recall')\n",
    "\n",
    "fig.suptitle(\"Logistic Regression Baseline\", fontsize=20)\n",
    "\n",
    "plt.savefig(\"test.jpg\")"
   ]
  }
 ],
 "metadata": {
  "interpreter": {
   "hash": "891e88972dfc8039e6e0fb3ce4192c113328747f76bab652721d5a2490f6e191"
  },
  "kernelspec": {
   "display_name": "Python 3.9.7 64-bit ('venv': venv)",
   "language": "python",
   "name": "python3"
  },
  "language_info": {
   "codemirror_mode": {
    "name": "ipython",
    "version": 3
   },
   "file_extension": ".py",
   "mimetype": "text/x-python",
   "name": "python",
   "nbconvert_exporter": "python",
   "pygments_lexer": "ipython3",
   "version": "3.8.8"
  },
  "orig_nbformat": 4
 },
 "nbformat": 4,
 "nbformat_minor": 2
}
